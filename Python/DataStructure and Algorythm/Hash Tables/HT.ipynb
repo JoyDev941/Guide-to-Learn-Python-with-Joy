{
 "cells": [
  {
   "cell_type": "markdown",
   "id": "2b2bc698",
   "metadata": {},
   "source": [
    "Hash tables are designed to be fast to work with. they are a type of data structure.\n",
    "\n",
    "the reason why its preffered is because they are faster to work with compared to arrays or linked lists.\n",
    "\n",
    "For example. if we want to located the word \"Choccolate\" in an array, it is only fast if we knew the index where choccolate is located in.\n",
    "However with hash tables, this becomes faster, because you search \"Choccolate\" directly."
   ]
  },
  {
   "cell_type": "markdown",
   "id": "1d9120b5",
   "metadata": {},
   "source": [
    "To create a hash table here are the steps:\n",
    "\n",
    "1 create a empty list.\n",
    "\n",
    "2 create a hash function.\n",
    "\n",
    "3 Insert a element in the lookup function.\n",
    "\n",
    "4 Looking up a element using the hash function.\n",
    "\n",
    "5 Handling collisions.\n"
   ]
  },
  {
   "cell_type": "markdown",
   "id": "5f9ab592",
   "metadata": {},
   "source": [
    "#------------------------------------------------------------------------#\n",
    "\n",
    "In the code bellow each element is called a bucket"
   ]
  },
  {
   "cell_type": "code",
   "execution_count": 9,
   "id": "93d51153",
   "metadata": {},
   "outputs": [],
   "source": [
    "#step 1 to create a empty list\n",
    "\n",
    "aList = [None,None,None,None,None,None,None,None,None,None,] "
   ]
  },
  {
   "cell_type": "code",
   "execution_count": 8,
   "id": "19a98a22",
   "metadata": {},
   "outputs": [
    {
     "name": "stdout",
     "output_type": "stream",
     "text": [
      "'Choccolate' has hashcode:  3\n"
     ]
    }
   ],
   "source": [
    "#step 2 we create a hash function\n",
    "\n",
    "def hash_function(value):\n",
    "    sum_of_chars  = 0\n",
    "    for char in value:\n",
    "        sum_of_chars += ord(char)\n",
    "    \n",
    "    return (sum_of_chars % 10)\n",
    "\n",
    "\n",
    "print(\"'Choccolate' has hashcode: \", hash_function(\"Choccolate\")) # capital letter can change the outcome"
   ]
  },
  {
   "cell_type": "code",
   "execution_count": 13,
   "id": "1cade441",
   "metadata": {},
   "outputs": [],
   "source": [
    "#step 3 we insert the element\n",
    "def add(name):\n",
    "    index = hash_function(name)\n",
    "    aList[index] = name"
   ]
  },
  {
   "cell_type": "code",
   "execution_count": 14,
   "id": "83fd8481",
   "metadata": {},
   "outputs": [],
   "source": [
    "add(\"Vannilla\")\n",
    "add(\"Strawberry\")\n",
    "add(\"Mint\")\n",
    "add(\"Pistachio\")"
   ]
  },
  {
   "cell_type": "code",
   "execution_count": 17,
   "id": "12a6a536",
   "metadata": {},
   "outputs": [
    {
     "name": "stdout",
     "output_type": "stream",
     "text": [
      "'Vannilla' is in the list:  True\n"
     ]
    }
   ],
   "source": [
    "#step 4 we look for the element\n",
    "def contains(name):\n",
    "    index = hash_function(name)\n",
    "    return aList[index] == name\n",
    "\n",
    "print(\"'Vannilla' is in the list: \", contains(\"Vannilla\"))"
   ]
  },
  {
   "cell_type": "markdown",
   "id": "01fd0e08",
   "metadata": {},
   "source": [
    "Handling Collisions"
   ]
  }
 ],
 "metadata": {
  "kernelspec": {
   "display_name": "Python 3",
   "language": "python",
   "name": "python3"
  },
  "language_info": {
   "codemirror_mode": {
    "name": "ipython",
    "version": 3
   },
   "file_extension": ".py",
   "mimetype": "text/x-python",
   "name": "python",
   "nbconvert_exporter": "python",
   "pygments_lexer": "ipython3",
   "version": "3.13.3"
  }
 },
 "nbformat": 4,
 "nbformat_minor": 5
}
