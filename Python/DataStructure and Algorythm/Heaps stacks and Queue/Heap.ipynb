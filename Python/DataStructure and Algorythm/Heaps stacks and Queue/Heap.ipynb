{
 "cells": [
  {
   "cell_type": "markdown",
   "id": "702ea2c6",
   "metadata": {},
   "source": [
    "<h1 style=\"color:red; text-align:center;\"><b>Heaps</b></h1>"
   ]
  },
  {
   "cell_type": "markdown",
   "id": "ce5f0245",
   "metadata": {},
   "source": [
    "A Heap is a complete binary tree data structure that satisfies the heap property: for every node, the value of its children is greater than or equal to its own value. Heaps are usually used to implement priority queues, where the smallest (or largest) element is always at the root of the tree."
   ]
  },
  {
   "cell_type": "code",
   "execution_count": null,
   "id": "797dfed9",
   "metadata": {},
   "outputs": [],
   "source": [
    "class Heap:\n",
    "\n",
    "    def __init__(self, max_size = 64):\n",
    "        self.heap = []\n",
    "        self.max_size = max_size\n",
    "\n",
    "    def insert(self, value):\n",
    "        return None\n",
    "    \n",
    "    def bubble_up(self, value):\n",
    "        return None\n",
    "    \n",
    "    def bubble_down(self, index):\n",
    "        return None\n",
    "    \n",
    "    def is_empty(self):\n",
    "        return None\n",
    "    \n",
    "    def size(self):\n",
    "        return len(self.heap)\n",
    "    \n",
    "    "
   ]
  }
 ],
 "metadata": {
  "kernelspec": {
   "display_name": "Python 3",
   "language": "python",
   "name": "python3"
  },
  "language_info": {
   "codemirror_mode": {
    "name": "ipython",
    "version": 3
   },
   "file_extension": ".py",
   "mimetype": "text/x-python",
   "name": "python",
   "nbconvert_exporter": "python",
   "pygments_lexer": "ipython3",
   "version": "3.13.3"
  }
 },
 "nbformat": 4,
 "nbformat_minor": 5
}
