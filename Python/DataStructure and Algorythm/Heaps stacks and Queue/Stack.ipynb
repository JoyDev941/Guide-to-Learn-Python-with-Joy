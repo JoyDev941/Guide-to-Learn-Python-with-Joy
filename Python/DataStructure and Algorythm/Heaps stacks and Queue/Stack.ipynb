{
 "cells": [
  {
   "cell_type": "markdown",
   "id": "fc154754",
   "metadata": {},
   "source": [
    "<h1 style=\"color:red; text-align:center;\"><b>STACKS</b></h1>"
   ]
  },
  {
   "cell_type": "markdown",
   "id": "069cdf9f",
   "metadata": {},
   "source": [
    "### This is logic of stacks in python. please read each chunck of code slowly to understand how it works.\n",
    "\n",
    "the reason we use self, is to explain which class we are working with, so that you can access the attributes that are related to the class."
   ]
  },
  {
   "cell_type": "code",
   "execution_count": null,
   "id": "97f6412b",
   "metadata": {},
   "outputs": [],
   "source": [
    "class Stack:\n",
    "\n",
    "    def __init__(self):\n",
    "        self.items = []\n",
    "\n",
    "    #to check if its epty\n",
    "    def is_empty(self):\n",
    "        if len(self.items) == 0:\n",
    "            return True\n",
    "        else:\n",
    "            return False\n",
    "    \n",
    "    #function to insert elements to the stack\n",
    "    def push(self, item):\n",
    "        self.items.append(item)\n",
    "\n",
    "    #function to remove elements from stack\n",
    "    def pop(self):\n",
    "        if self.is_empty():\n",
    "            print(\"Stack is empty\")\n",
    "        else: return self.items.pop()\n",
    "\n",
    "    #to show list\n",
    "    def show(self):\n",
    "        if self.is_empty():\n",
    "            print(\"Stack is empty\")\n",
    "        else:\n",
    "            return self.items\n",
    "        \n",
    "    #checks the size of the stack\n",
    "    def size(self):\n",
    "        return len(self.items)\n",
    "    \n",
    "    #checks the top element of the stack without removing it.\n",
    "    def peek(self):\n",
    "        if self.is_empty():\n",
    "            print(\"Stack is empty\")\n",
    "        else:\n",
    "            return self.items[-1]\n",
    "        \n",
    "    \n"
   ]
  },
  {
   "cell_type": "code",
   "execution_count": 31,
   "id": "a3d090b9",
   "metadata": {},
   "outputs": [
    {
     "name": "stdout",
     "output_type": "stream",
     "text": [
      "Stack is empty\n"
     ]
    }
   ],
   "source": [
    "aList = Stack()\n",
    "\n",
    "aList.pop() #expected empty"
   ]
  },
  {
   "cell_type": "code",
   "execution_count": 32,
   "id": "b4a806c4",
   "metadata": {},
   "outputs": [],
   "source": [
    "aList.push(1)\n",
    "aList.push(2)\n",
    "aList.push(3)\n",
    "aList.push(4)"
   ]
  },
  {
   "cell_type": "code",
   "execution_count": 33,
   "id": "ac134425",
   "metadata": {},
   "outputs": [
    {
     "data": {
      "text/plain": [
       "[1, 2, 3, 4]"
      ]
     },
     "execution_count": 33,
     "metadata": {},
     "output_type": "execute_result"
    }
   ],
   "source": [
    "aList.show() #expected [1, 2, 3, 4]"
   ]
  },
  {
   "cell_type": "code",
   "execution_count": 34,
   "id": "8965696b",
   "metadata": {},
   "outputs": [
    {
     "data": {
      "text/plain": [
       "[1, 2, 3]"
      ]
     },
     "execution_count": 34,
     "metadata": {},
     "output_type": "execute_result"
    }
   ],
   "source": [
    "#First in Last out\n",
    "aList.pop() #expected to remove 4\n",
    "aList.show() #expected [1, 2, 3]"
   ]
  },
  {
   "cell_type": "code",
   "execution_count": null,
   "id": "76c7a404",
   "metadata": {},
   "outputs": [
    {
     "data": {
      "text/plain": [
       "3"
      ]
     },
     "execution_count": 35,
     "metadata": {},
     "output_type": "execute_result"
    }
   ],
   "source": [
    "aList.size()# expected 3, if all pop cell has been exectuted otherwise 4"
   ]
  }
 ],
 "metadata": {
  "kernelspec": {
   "display_name": "Python 3",
   "language": "python",
   "name": "python3"
  },
  "language_info": {
   "codemirror_mode": {
    "name": "ipython",
    "version": 3
   },
   "file_extension": ".py",
   "mimetype": "text/x-python",
   "name": "python",
   "nbconvert_exporter": "python",
   "pygments_lexer": "ipython3",
   "version": "3.13.3"
  }
 },
 "nbformat": 4,
 "nbformat_minor": 5
}
