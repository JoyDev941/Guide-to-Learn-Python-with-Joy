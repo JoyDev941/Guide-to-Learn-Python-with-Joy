{
 "cells": [
  {
   "cell_type": "markdown",
   "id": "8e2d6144",
   "metadata": {},
   "source": [
    "The simple logic behind construct a node.\n",
    "The second method outside the Node, is to go and show the data in each node one by one."
   ]
  },
  {
   "cell_type": "code",
   "execution_count": 22,
   "id": "d52192ae",
   "metadata": {},
   "outputs": [],
   "source": [
    "class Node: #this constructs the node itself.\n",
    "    def __init__(self, data):\n",
    "        self.data = data #this stores the data\n",
    "        self.next = None # this points towards the next node"
   ]
  },
  {
   "cell_type": "code",
   "execution_count": 21,
   "id": "6a653df7",
   "metadata": {},
   "outputs": [],
   "source": [
    "def TravelPrintHead(head):\n",
    "    CurrentNode = head\n",
    "    while CurrentNode:\n",
    "        print (CurrentNode.data, end=\" -> \")\n",
    "        CurrentNode = CurrentNode.next\n",
    "    print(\"null\")"
   ]
  },
  {
   "cell_type": "code",
   "execution_count": 23,
   "id": "d5118fdf",
   "metadata": {},
   "outputs": [],
   "source": [
    "def TravelByStep(head):\n",
    "    currentNode = head\n",
    "    while currentNode:\n",
    "        print(\"to advance type A and enter to stop press Q\")\n",
    "        ans = input()\n",
    "        if ans == \"a\".upper():\n",
    "            print (CurrentNode.data, end=\" -> \")\n",
    "            CurrentNode = CurrentNode.next\n",
    "        elif ans == \"q\".upper():\n",
    "            print(\"Software Ended\")\n",
    "            quit()\n",
    "    print(\"Null\")"
   ]
  },
  {
   "cell_type": "code",
   "execution_count": 17,
   "id": "ed3099e6",
   "metadata": {},
   "outputs": [],
   "source": [
    "node1 = Node(7)\n",
    "node2 = Node(11)\n",
    "node3 = Node(3)\n",
    "node4 = Node(2)\n",
    "node5 = Node(9)\n",
    "\n",
    "\n",
    "node1.next = node2\n",
    "node2.next = node3\n",
    "node3.next = node4\n",
    "node4.next = node5\n",
    "\n"
   ]
  },
  {
   "cell_type": "code",
   "execution_count": 18,
   "id": "8c8f553e",
   "metadata": {},
   "outputs": [
    {
     "name": "stdout",
     "output_type": "stream",
     "text": [
      "7 -> 11 -> 3 -> 2 -> 9 -> null\n"
     ]
    }
   ],
   "source": [
    "TravelPrintHead(node1)"
   ]
  },
  {
   "cell_type": "code",
   "execution_count": null,
   "id": "0031c163",
   "metadata": {},
   "outputs": [
    {
     "name": "stdout",
     "output_type": "stream",
     "text": [
      "to advance type A and enter to stop press Q\n"
     ]
    }
   ],
   "source": [
    "TravelByStep(node1)"
   ]
  },
  {
   "cell_type": "markdown",
   "id": "65a9849b",
   "metadata": {},
   "source": [
    "Types of Linked List:"
   ]
  },
  {
   "cell_type": "markdown",
   "id": "b4c38de9",
   "metadata": {},
   "source": [
    "Single Linked List:\n",
    "\n",
    "Data   /->   Data   /->   Data   /->    Data   /->    Data   /-> null\n",
    "next _/      next _/      next _/       next _/       next _/\n",
    "\n",
    "The Next will point towards the data of the next node.\n",
    "the logic is:\n",
    "1 - access head node and store it in currentnode\n",
    "2 - show currentnode data\n",
    "3 - show next node.\n",
    "4 - store next node in current node.\n",
    "5 - continue untill next node is null."
   ]
  },
  {
   "cell_type": "markdown",
   "id": "df8ce4ac",
   "metadata": {},
   "source": [
    "Double Linked List:\n",
    "\n",
    "null       <-prev       <-prev        <-prev        <-prev     <-prev\n",
    "Data   /->   Data   /->   Data   /->    Data   /->    Data   /-> null\n",
    "next _/      next _/      next _/       next _/       next _/\n",
    "\n",
    "\n",
    "its a normal linked list, however with a pointer towards the previous node."
   ]
  },
  {
   "cell_type": "code",
   "execution_count": 15,
   "id": "7be0d4f4",
   "metadata": {},
   "outputs": [],
   "source": [
    "class Node:\n",
    "    def __init__(self, data):\n",
    "        self.prev = None\n",
    "        self.data = data\n",
    "        self.next = None\n",
    "\n",
    "def traverseForward(node):\n",
    "    currentNode = node\n",
    "    while currentNode:\n",
    "        print(currentNode.data, end = \" -> \")\n",
    "        currentNode = currentNode.next\n",
    "    print(\"null\")\n",
    "\n",
    "def traverseBackwards(node):\n",
    "    currentNode = node\n",
    "    while currentNode:\n",
    "        print(currentNode.data, end = \" -> \")\n",
    "        currentNode = currentNode.prev\n",
    "    print(\"null\")"
   ]
  },
  {
   "cell_type": "code",
   "execution_count": 16,
   "id": "c1f37449",
   "metadata": {},
   "outputs": [],
   "source": [
    "node1 = Node(1)\n",
    "node2 = Node(2)\n",
    "node3 = Node(3)\n",
    "node4 = Node(4)\n",
    "\n",
    "node1.next = node2\n",
    "node2.next = node3\n",
    "node3.next = node4\n",
    "\n",
    "node2.prev = node1\n",
    "node3.prev = node2\n",
    "node4.prev = node3"
   ]
  },
  {
   "cell_type": "code",
   "execution_count": 17,
   "id": "9574c5e2",
   "metadata": {},
   "outputs": [
    {
     "name": "stdout",
     "output_type": "stream",
     "text": [
      "4 -> 3 -> 2 -> 1 -> null\n"
     ]
    }
   ],
   "source": [
    "traverseBackwards(node4)"
   ]
  },
  {
   "cell_type": "markdown",
   "id": "a59a1b61",
   "metadata": {},
   "source": [
    "A circular Linked List:\n",
    "\n",
    "Data   /->   Data   /->   Data   /->    Data   /->    Data \n",
    "next _/      next _/      next _/       next _/       next _\n",
    "^                                                           \\\n",
    "┃___________________________________________________________┃\n",
    "\n",
    "the final node points towards the original node. \"apologies for the bad arrow design\""
   ]
  },
  {
   "cell_type": "code",
   "execution_count": null,
   "id": "5ef8ce67",
   "metadata": {},
   "outputs": [],
   "source": [
    "class Node:\n",
    "    def __init__(self, data):\n",
    "        self.data = data\n",
    "        self.next = None"
   ]
  },
  {
   "cell_type": "code",
   "execution_count": null,
   "id": "5180f9d6",
   "metadata": {},
   "outputs": [],
   "source": [
    "node1 = Node(1)\n",
    "node2 = Node(2)\n",
    "node3 = Node(3)\n",
    "node4 = Node(4)\n",
    "\n",
    "node1.next = node2\n",
    "node2.next = node3\n",
    "node3.next = node4\n",
    "node4.next = node1"
   ]
  },
  {
   "cell_type": "markdown",
   "id": "aac1b614",
   "metadata": {},
   "source": [
    "You can mix a circulal linked list with a Double linked List.\n",
    "The first node previous point towards the last node.\n",
    "the final node next will point towards the first node."
   ]
  },
  {
   "cell_type": "code",
   "execution_count": 20,
   "id": "f142456d",
   "metadata": {},
   "outputs": [
    {
     "data": {
      "image/png": "[encoded data removed]",
      "text/plain": [
       "<IPython.core.display.Image object>"
      ]
     },
     "execution_count": 20,
     "metadata": {},
     "output_type": "execute_result"
    }
   ],
   "source": [
    "from IPython.display import Image\n",
    "Image(\"./picture.png\")"
   ]
  },
  {
   "cell_type": "code",
   "execution_count": null,
   "id": "2034fb32",
   "metadata": {},
   "outputs": [],
   "source": [
    "class Node:\n",
    "    def __init__(self, data):\n",
    "        self.prev = None\n",
    "        self.data = data\n",
    "        self.next = None"
   ]
  },
  {
   "cell_type": "code",
   "execution_count": null,
   "id": "c137b1e7",
   "metadata": {},
   "outputs": [],
   "source": [
    "#set up nodes with data\n",
    "node1 = Node(1)\n",
    "node2 = Node(2)\n",
    "node3 = Node(3)\n",
    "node4 = Node(4)\n",
    "\n",
    "#section to set up next data\n",
    "node1.next = node2\n",
    "node2.next = node3\n",
    "node3.next = node4\n",
    "node4.next = node1 #link to the first node\n",
    "\n",
    "#section to set up prev node data\n",
    "node2.prev = node1\n",
    "node3.prev = node2\n",
    "node4.prev = node3\n",
    "node1.prev = node4 # link to the last node"
   ]
  }
 ],
 "metadata": {
  "kernelspec": {
   "display_name": "Python 3",
   "language": "python",
   "name": "python3"
  },
  "language_info": {
   "codemirror_mode": {
    "name": "ipython",
    "version": 3
   },
   "file_extension": ".py",
   "mimetype": "text/x-python",
   "name": "python",
   "nbconvert_exporter": "python",
   "pygments_lexer": "ipython3",
   "version": "3.13.3"
  }
 },
 "nbformat": 4,
 "nbformat_minor": 5
}
