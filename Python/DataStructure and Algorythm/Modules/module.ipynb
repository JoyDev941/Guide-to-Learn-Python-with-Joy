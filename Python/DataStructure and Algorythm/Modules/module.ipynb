{
 "cells": [
  {
   "cell_type": "markdown",
   "id": "d94f43b0",
   "metadata": {},
   "source": [
    "A module is simply libraries that have functions within them that we can call upon in other python files. a lot of modules can be downloaded from the internet and implemented in the python application."
   ]
  },
  {
   "cell_type": "code",
   "execution_count": 4,
   "id": "a6b3098c",
   "metadata": {},
   "outputs": [
    {
     "data": {
      "text/plain": [
       "<module 'mymodule' from 'c:\\\\Users\\\\JoySakai\\\\Desktop\\\\Data_Analytics_Portfolio\\\\Python\\\\DataStructure and Algorythm\\\\Modules\\\\mymodule.py'>"
      ]
     },
     "execution_count": 4,
     "metadata": {},
     "output_type": "execute_result"
    }
   ],
   "source": [
    "import mymodule as mm\n",
    "import importlib\n",
    "\n",
    "importlib.reload(mm)\n"
   ]
  },
  {
   "cell_type": "code",
   "execution_count": 18,
   "id": "ba61e15d",
   "metadata": {},
   "outputs": [
    {
     "name": "stdout",
     "output_type": "stream",
     "text": [
      "Hello, Joy\n"
     ]
    }
   ],
   "source": [
    "mm.greeting(\"Joy\")"
   ]
  },
  {
   "cell_type": "code",
   "execution_count": 19,
   "id": "6abb5224",
   "metadata": {},
   "outputs": [
    {
     "name": "stdout",
     "output_type": "stream",
     "text": [
      "36\n"
     ]
    }
   ],
   "source": [
    "a = mm.person1[\"age\"]\n",
    "print(a)"
   ]
  },
  {
   "cell_type": "markdown",
   "id": "2da8fd30",
   "metadata": {},
   "source": [
    "The following code checks the operating system that the code is being compiled in"
   ]
  },
  {
   "cell_type": "code",
   "execution_count": null,
   "id": "c27fc271",
   "metadata": {},
   "outputs": [
    {
     "name": "stdout",
     "output_type": "stream",
     "text": [
      "Windows\n"
     ]
    }
   ],
   "source": [
    "import platform #module to check system\n",
    "\n",
    "x = platform.system()\n",
    "print(x)"
   ]
  },
  {
   "cell_type": "markdown",
   "id": "53d4a6a7",
   "metadata": {},
   "source": [
    "List all the defined names belonging to the platform module:"
   ]
  },
  {
   "cell_type": "code",
   "execution_count": 21,
   "id": "5e5d91ce",
   "metadata": {},
   "outputs": [
    {
     "name": "stdout",
     "output_type": "stream",
     "text": [
      "['AndroidVer', 'IOSVersionInfo', '_Processor', '_WIN32_CLIENT_RELEASES', '_WIN32_SERVER_RELEASES', '__builtins__', '__cached__', '__copyright__', '__doc__', '__file__', '__loader__', '__name__', '__package__', '__spec__', '__version__', '_comparable_version', '_default_architecture', '_follow_symlinks', '_get_machine_win32', '_java_getprop', '_mac_ver_xml', '_node', '_norm_version', '_os_release_cache', '_os_release_candidates', '_parse_os_release', '_platform', '_platform_cache', '_sys_version', '_sys_version_cache', '_syscmd_file', '_syscmd_ver', '_uname_cache', '_unknown_as_blank', '_ver_stages', '_win32_ver', '_wmi', '_wmi_query', 'android_ver', 'architecture', 'collections', 'freedesktop_os_release', 'functools', 'ios_ver', 'itertools', 'java_ver', 'libc_ver', 'mac_ver', 'machine', 'node', 'os', 'platform', 'processor', 'python_branch', 'python_build', 'python_compiler', 'python_implementation', 'python_revision', 'python_version', 'python_version_tuple', 're', 'release', 'sys', 'system', 'system_alias', 'uname', 'uname_result', 'version', 'win32_edition', 'win32_is_iot', 'win32_ver']\n"
     ]
    }
   ],
   "source": [
    "x = dir(platform)\n",
    "print(x)"
   ]
  },
  {
   "cell_type": "code",
   "execution_count": 5,
   "id": "dc440ca0",
   "metadata": {},
   "outputs": [
    {
     "name": "stdout",
     "output_type": "stream",
     "text": [
      "['__builtins__', '__cached__', '__doc__', '__file__', '__loader__', '__name__', '__package__', '__spec__', 'food', 'greeting', 'person1', 'sex', 'sport']\n"
     ]
    }
   ],
   "source": [
    "print(dir(mm))"
   ]
  },
  {
   "cell_type": "markdown",
   "id": "afc91cf6",
   "metadata": {},
   "source": [
    "you can import specific functions or dictionaries from the module"
   ]
  },
  {
   "cell_type": "code",
   "execution_count": 22,
   "id": "9089793b",
   "metadata": {},
   "outputs": [
    {
     "name": "stdout",
     "output_type": "stream",
     "text": [
      "John\n"
     ]
    }
   ],
   "source": [
    "from mymodule import person1\n",
    "\n",
    "print(person1[\"name\"])"
   ]
  },
  {
   "cell_type": "code",
   "execution_count": 23,
   "id": "45ef080c",
   "metadata": {},
   "outputs": [
    {
     "name": "stdout",
     "output_type": "stream",
     "text": [
      "Hello, Joy\n"
     ]
    }
   ],
   "source": [
    "from mymodule import greeting\n",
    "\n",
    "greeting(\"Joy\")"
   ]
  },
  {
   "cell_type": "code",
   "execution_count": 26,
   "id": "b3c3644e",
   "metadata": {},
   "outputs": [
    {
     "name": "stdout",
     "output_type": "stream",
     "text": [
      "BasketBall\n"
     ]
    }
   ],
   "source": [
    "from mymodule import sport\n",
    "\n",
    "print(sport)"
   ]
  }
 ],
 "metadata": {
  "kernelspec": {
   "display_name": "Python 3",
   "language": "python",
   "name": "python3"
  },
  "language_info": {
   "codemirror_mode": {
    "name": "ipython",
    "version": 3
   },
   "file_extension": ".py",
   "mimetype": "text/x-python",
   "name": "python",
   "nbconvert_exporter": "python",
   "pygments_lexer": "ipython3",
   "version": "3.13.3"
  }
 },
 "nbformat": 4,
 "nbformat_minor": 5
}
