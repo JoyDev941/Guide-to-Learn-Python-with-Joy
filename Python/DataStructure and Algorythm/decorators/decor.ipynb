{
 "cells": [
  {
   "cell_type": "code",
   "execution_count": 5,
   "id": "90db0b2b",
   "metadata": {},
   "outputs": [],
   "source": [
    "def Roar(funct):\n",
    "    def wrapper():\n",
    "        print(\"Roarrr\")\n",
    "        funct()\n",
    "    return wrapper"
   ]
  },
  {
   "cell_type": "code",
   "execution_count": 6,
   "id": "783f7689",
   "metadata": {},
   "outputs": [],
   "source": [
    "@Roar\n",
    "def spot_cat():\n",
    "    print(\"I am a cat\")"
   ]
  },
  {
   "cell_type": "code",
   "execution_count": 7,
   "id": "b6397eaf",
   "metadata": {},
   "outputs": [],
   "source": [
    "@Roar\n",
    "def spot_Tiger():\n",
    "    print(\"I am a Tiger\")"
   ]
  },
  {
   "cell_type": "code",
   "execution_count": 8,
   "id": "a82a08d9",
   "metadata": {},
   "outputs": [],
   "source": [
    "@Roar\n",
    "def spot_Lion():\n",
    "    print(\"I am a Lion\")"
   ]
  },
  {
   "cell_type": "code",
   "execution_count": 9,
   "id": "f625564f",
   "metadata": {},
   "outputs": [],
   "source": [
    "@Roar\n",
    "def spot_Trex():\n",
    "    print(\"I am a Trex\")"
   ]
  },
  {
   "cell_type": "markdown",
   "id": "a25d8b49",
   "metadata": {},
   "source": [
    "You can see because we attached a additional function to the base function \"spot_...\" We can simply call the base function and it will automatically call the decorator function. no need to write additional code! use what is already there."
   ]
  },
  {
   "cell_type": "code",
   "execution_count": 10,
   "id": "3f020518",
   "metadata": {},
   "outputs": [
    {
     "name": "stdout",
     "output_type": "stream",
     "text": [
      "Roarrr\n",
      "I am a cat\n"
     ]
    }
   ],
   "source": [
    "spot_cat()"
   ]
  },
  {
   "cell_type": "code",
   "execution_count": 11,
   "id": "3d3cb0c8",
   "metadata": {},
   "outputs": [
    {
     "name": "stdout",
     "output_type": "stream",
     "text": [
      "Roarrr\n",
      "I am a Tiger\n"
     ]
    }
   ],
   "source": [
    "spot_Tiger()"
   ]
  }
 ],
 "metadata": {
  "kernelspec": {
   "display_name": "Python 3",
   "language": "python",
   "name": "python3"
  },
  "language_info": {
   "codemirror_mode": {
    "name": "ipython",
    "version": 3
   },
   "file_extension": ".py",
   "mimetype": "text/x-python",
   "name": "python",
   "nbconvert_exporter": "python",
   "pygments_lexer": "ipython3",
   "version": "3.13.3"
  }
 },
 "nbformat": 4,
 "nbformat_minor": 5
}
