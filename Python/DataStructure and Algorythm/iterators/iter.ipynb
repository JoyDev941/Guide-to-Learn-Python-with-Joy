{
 "cells": [
  {
   "cell_type": "markdown",
   "id": "ad781ceb",
   "metadata": {},
   "source": [
    "Creating a list and then format it to iteration. \n",
    "you can iterate through the letters of each word as well.\n"
   ]
  },
  {
   "cell_type": "code",
   "execution_count": 40,
   "id": "319d368c",
   "metadata": {},
   "outputs": [],
   "source": [
    "words = [\"Joy\", \"John\", \"Jacob\", \"Jab\"]\n",
    "ite = iter(words)\n",
    "word = \"Jason Derulo\"\n",
    "ite2 = iter(word)"
   ]
  },
  {
   "cell_type": "code",
   "execution_count": null,
   "id": "8ebcbb61",
   "metadata": {},
   "outputs": [
    {
     "name": "stdout",
     "output_type": "stream",
     "text": [
      "Joy\n"
     ]
    }
   ],
   "source": [
    "print(next(ite)) # to iterate trough the list. if the list ends, then you myst reload the cell, to restart the iteration list."
   ]
  },
  {
   "cell_type": "code",
   "execution_count": 27,
   "id": "3a21cf3b",
   "metadata": {},
   "outputs": [
    {
     "name": "stdout",
     "output_type": "stream",
     "text": [
      "o\n"
     ]
    }
   ],
   "source": [
    "print(next(ite2))"
   ]
  },
  {
   "cell_type": "markdown",
   "id": "986edf6c",
   "metadata": {},
   "source": [
    "some error handling tutorial to make yourself remember:"
   ]
  },
  {
   "cell_type": "code",
   "execution_count": 45,
   "id": "26b26ec9",
   "metadata": {},
   "outputs": [
    {
     "name": "stdout",
     "output_type": "stream",
     "text": [
      "Please Re-run the first cell\n"
     ]
    }
   ],
   "source": [
    "try:\n",
    "    print(next(ite))\n",
    "except:\n",
    "    print(\"Please Re-run the first cell\")"
   ]
  },
  {
   "cell_type": "markdown",
   "id": "62643552",
   "metadata": {},
   "source": [
    "you can iterate using for loop as well. replace the \"range()\" with the list or variable"
   ]
  },
  {
   "cell_type": "code",
   "execution_count": 46,
   "id": "ade4bb29",
   "metadata": {},
   "outputs": [
    {
     "name": "stdout",
     "output_type": "stream",
     "text": [
      "Joy\n",
      "John\n",
      "Jacob\n",
      "Jab\n"
     ]
    }
   ],
   "source": [
    "for i in words:\n",
    "    print(i)"
   ]
  },
  {
   "cell_type": "code",
   "execution_count": 48,
   "id": "74180fdd",
   "metadata": {},
   "outputs": [
    {
     "name": "stdout",
     "output_type": "stream",
     "text": [
      "J\n",
      "a\n",
      "s\n",
      "o\n",
      "n\n",
      " \n",
      "D\n",
      "e\n",
      "r\n",
      "u\n",
      "l\n",
      "o\n"
     ]
    }
   ],
   "source": [
    "for i in word:\n",
    "    print(i)"
   ]
  },
  {
   "cell_type": "markdown",
   "id": "ddd88927",
   "metadata": {},
   "source": [
    "you can create a infite increase of a iteration"
   ]
  },
  {
   "cell_type": "code",
   "execution_count": 1,
   "id": "86c297cd",
   "metadata": {},
   "outputs": [
    {
     "name": "stdout",
     "output_type": "stream",
     "text": [
      "1\n",
      "2\n",
      "3\n",
      "4\n",
      "5\n"
     ]
    }
   ],
   "source": [
    "class MyNumbers:\n",
    "  def __iter__(self):\n",
    "    self.a = 1\n",
    "    return self\n",
    "\n",
    "  def __next__(self):\n",
    "    x = self.a\n",
    "    self.a += 1\n",
    "    return x\n",
    "\n",
    "myclass = MyNumbers()\n",
    "myiter = iter(myclass)\n",
    "\n",
    "print(next(myiter))\n",
    "print(next(myiter))\n",
    "print(next(myiter))\n",
    "print(next(myiter))\n",
    "print(next(myiter))"
   ]
  },
  {
   "cell_type": "markdown",
   "id": "40f0861a",
   "metadata": {},
   "source": [
    "You can also create a iteration that stops after a certain point. in this case after 20 it will stop"
   ]
  },
  {
   "cell_type": "code",
   "execution_count": 2,
   "id": "96fe909a",
   "metadata": {},
   "outputs": [
    {
     "name": "stdout",
     "output_type": "stream",
     "text": [
      "1\n",
      "2\n",
      "3\n",
      "4\n",
      "5\n",
      "6\n",
      "7\n",
      "8\n",
      "9\n",
      "10\n",
      "11\n",
      "12\n",
      "13\n",
      "14\n",
      "15\n",
      "16\n",
      "17\n",
      "18\n",
      "19\n",
      "20\n"
     ]
    }
   ],
   "source": [
    "class MyNumbers:\n",
    "  def __iter__(self):\n",
    "    self.a = 1\n",
    "    return self\n",
    "\n",
    "  def __next__(self):\n",
    "    if self.a <= 20:\n",
    "      x = self.a\n",
    "      self.a += 1\n",
    "      return x\n",
    "    else:\n",
    "      raise StopIteration\n",
    "\n",
    "myclass = MyNumbers()\n",
    "myiter = iter(myclass)\n",
    "\n",
    "for x in myiter:\n",
    "  print(x)"
   ]
  }
 ],
 "metadata": {
  "kernelspec": {
   "display_name": "Python 3",
   "language": "python",
   "name": "python3"
  },
  "language_info": {
   "codemirror_mode": {
    "name": "ipython",
    "version": 3
   },
   "file_extension": ".py",
   "mimetype": "text/x-python",
   "name": "python",
   "nbconvert_exporter": "python",
   "pygments_lexer": "ipython3",
   "version": "3.13.3"
  }
 },
 "nbformat": 4,
 "nbformat_minor": 5
}
