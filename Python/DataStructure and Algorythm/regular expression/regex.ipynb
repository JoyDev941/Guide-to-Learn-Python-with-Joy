{
 "cells": [
  {
   "cell_type": "code",
   "execution_count": 11,
   "id": "60d13122",
   "metadata": {},
   "outputs": [],
   "source": [
    "import re"
   ]
  },
  {
   "cell_type": "markdown",
   "id": "e69ddd0d",
   "metadata": {},
   "source": [
    "Search the string to see if it starts with \"The\" and ends with \"Spain\":"
   ]
  },
  {
   "cell_type": "code",
   "execution_count": 3,
   "id": "3b4ef7dd",
   "metadata": {},
   "outputs": [
    {
     "name": "stdout",
     "output_type": "stream",
     "text": [
      "<re.Match object; span=(0, 17), match='The rain in Spain'>\n"
     ]
    }
   ],
   "source": [
    "txt = \"The rain in Spain\"\n",
    "\n",
    "x = re.search(\"^The.*Spain$\", txt)\n",
    "\n",
    "print(x)"
   ]
  },
  {
   "cell_type": "markdown",
   "id": "13e9d86f",
   "metadata": {},
   "source": [
    "./regular expression/image.png check this out"
   ]
  },
  {
   "cell_type": "markdown",
   "id": "1cc2359c",
   "metadata": {},
   "source": [
    "FINDALL()"
   ]
  },
  {
   "cell_type": "markdown",
   "id": "dc58d298",
   "metadata": {},
   "source": [
    "\"\\s\" means the space character \"    \""
   ]
  },
  {
   "cell_type": "markdown",
   "id": "d4756504",
   "metadata": {},
   "source": [
    "Following code searches in the string, all of the \"ai\". the code shows a list as well as the length of the list"
   ]
  },
  {
   "cell_type": "code",
   "execution_count": 4,
   "id": "65d2273b",
   "metadata": {},
   "outputs": [
    {
     "name": "stdout",
     "output_type": "stream",
     "text": [
      "shows the list found\n",
      "['ai', 'ai']\n",
      "Amount found:\n",
      "2\n"
     ]
    }
   ],
   "source": [
    "x = re.findall(\"ai\", txt)\n",
    "\n",
    "print(\"shows the list found\")\n",
    "print(x)\n",
    "print(\"Amount found:\")\n",
    "print(len(x))"
   ]
  },
  {
   "cell_type": "markdown",
   "id": "39dc2ef9",
   "metadata": {},
   "source": [
    "SEARCH()"
   ]
  },
  {
   "cell_type": "markdown",
   "id": "0c64599b",
   "metadata": {},
   "source": [
    "this show after how many strings it will be a white space"
   ]
  },
  {
   "cell_type": "markdown",
   "id": "8658acaf",
   "metadata": {},
   "source": [
    "think of start() as if its saying up till..."
   ]
  },
  {
   "cell_type": "code",
   "execution_count": 30,
   "id": "769406a0",
   "metadata": {},
   "outputs": [
    {
     "name": "stdout",
     "output_type": "stream",
     "text": [
      "The first white-space character is located in position:\n",
      "3\n"
     ]
    },
    {
     "name": "stderr",
     "output_type": "stream",
     "text": [
      "<>:1: SyntaxWarning: invalid escape sequence '\\s'\n",
      "<>:1: SyntaxWarning: invalid escape sequence '\\s'\n",
      "C:\\Users\\JoySakai\\AppData\\Local\\Temp\\ipykernel_18740\\2975583297.py:1: SyntaxWarning: invalid escape sequence '\\s'\n",
      "  x = re.search(\"\\s\", txt)\n"
     ]
    }
   ],
   "source": [
    "x = re.search(\"\\s\", txt)\n",
    "\n",
    "print(\"The first white-space character is located in position:\")\n",
    "print(x.start())"
   ]
  },
  {
   "cell_type": "markdown",
   "id": "7c47433a",
   "metadata": {},
   "source": [
    "SPLIT()"
   ]
  },
  {
   "cell_type": "markdown",
   "id": "d03897e7",
   "metadata": {},
   "source": [
    "it can split words based on the character you insert in the function. Try and experiment by replacing \"\\s\""
   ]
  },
  {
   "cell_type": "code",
   "execution_count": 21,
   "id": "05e483e1",
   "metadata": {},
   "outputs": [
    {
     "name": "stdout",
     "output_type": "stream",
     "text": [
      "['The', 'rain', 'in', 'Spain']\n"
     ]
    },
    {
     "name": "stderr",
     "output_type": "stream",
     "text": [
      "<>:1: SyntaxWarning: invalid escape sequence '\\s'\n",
      "<>:1: SyntaxWarning: invalid escape sequence '\\s'\n",
      "C:\\Users\\JoySakai\\AppData\\Local\\Temp\\ipykernel_18740\\2738950249.py:1: SyntaxWarning: invalid escape sequence '\\s'\n",
      "  x = re.split(\"\\s\",txt)\n"
     ]
    }
   ],
   "source": [
    "x = re.split(\"\\s\",txt)\n",
    "\n",
    "print(x)"
   ]
  },
  {
   "cell_type": "markdown",
   "id": "1efff382",
   "metadata": {},
   "source": [
    "You can also split till the first time it finds the letter you given to the function"
   ]
  },
  {
   "cell_type": "code",
   "execution_count": 22,
   "id": "95ebd97a",
   "metadata": {},
   "outputs": [
    {
     "name": "stdout",
     "output_type": "stream",
     "text": [
      "['The', 'rain in Spain']\n"
     ]
    },
    {
     "name": "stderr",
     "output_type": "stream",
     "text": [
      "<>:1: SyntaxWarning: invalid escape sequence '\\s'\n",
      "<>:1: SyntaxWarning: invalid escape sequence '\\s'\n",
      "C:\\Users\\JoySakai\\AppData\\Local\\Temp\\ipykernel_18740\\1135189964.py:1: SyntaxWarning: invalid escape sequence '\\s'\n",
      "  x = re.split(\"\\s\", txt, 1)\n",
      "C:\\Users\\JoySakai\\AppData\\Local\\Temp\\ipykernel_18740\\1135189964.py:1: DeprecationWarning: 'maxsplit' is passed as positional argument\n",
      "  x = re.split(\"\\s\", txt, 1)\n"
     ]
    }
   ],
   "source": [
    "x = re.split(\"\\s\", txt, 1)\n",
    "print(x)"
   ]
  },
  {
   "cell_type": "markdown",
   "id": "9c7369fa",
   "metadata": {},
   "source": [
    "SUB()"
   ]
  },
  {
   "cell_type": "markdown",
   "id": "73e714be",
   "metadata": {},
   "source": [
    "replaces every characters, with another character."
   ]
  },
  {
   "cell_type": "code",
   "execution_count": 24,
   "id": "0b5cbb59",
   "metadata": {},
   "outputs": [
    {
     "name": "stdout",
     "output_type": "stream",
     "text": [
      "The9rain9in9Spain\n"
     ]
    },
    {
     "name": "stderr",
     "output_type": "stream",
     "text": [
      "<>:1: SyntaxWarning: invalid escape sequence '\\s'\n",
      "<>:1: SyntaxWarning: invalid escape sequence '\\s'\n",
      "C:\\Users\\JoySakai\\AppData\\Local\\Temp\\ipykernel_18740\\1194484129.py:1: SyntaxWarning: invalid escape sequence '\\s'\n",
      "  x = re.sub(\"\\s\", \"9\", txt)\n"
     ]
    }
   ],
   "source": [
    "x = re.sub(\"\\s\", \"9\", txt)\n",
    "print(x)"
   ]
  },
  {
   "cell_type": "markdown",
   "id": "f4570307",
   "metadata": {},
   "source": [
    "to limit it up till the first space"
   ]
  },
  {
   "cell_type": "code",
   "execution_count": 26,
   "id": "fd80df1c",
   "metadata": {},
   "outputs": [
    {
     "name": "stdout",
     "output_type": "stream",
     "text": [
      "The9rain in Spain\n"
     ]
    },
    {
     "name": "stderr",
     "output_type": "stream",
     "text": [
      "<>:1: SyntaxWarning: invalid escape sequence '\\s'\n",
      "<>:1: SyntaxWarning: invalid escape sequence '\\s'\n",
      "C:\\Users\\JoySakai\\AppData\\Local\\Temp\\ipykernel_18740\\2755985322.py:1: SyntaxWarning: invalid escape sequence '\\s'\n",
      "  x = re.sub(\"\\s\", \"9\", txt, 1)\n",
      "C:\\Users\\JoySakai\\AppData\\Local\\Temp\\ipykernel_18740\\2755985322.py:1: DeprecationWarning: 'count' is passed as positional argument\n",
      "  x = re.sub(\"\\s\", \"9\", txt, 1)\n"
     ]
    }
   ],
   "source": [
    "x = re.sub(\"\\s\", \"9\", txt, 1)\n",
    "print(x)"
   ]
  },
  {
   "cell_type": "markdown",
   "id": "202d80a5",
   "metadata": {},
   "source": [
    "Print the position (start- and end-position) of the first match occurrence.\n",
    "\n",
    "The regular expression looks for any words that starts with an upper case \"S\":"
   ]
  },
  {
   "cell_type": "code",
   "execution_count": 28,
   "id": "8354f25c",
   "metadata": {},
   "outputs": [
    {
     "name": "stdout",
     "output_type": "stream",
     "text": [
      "(12, 17)\n"
     ]
    }
   ],
   "source": [
    "x = re.search(r\"\\bS\\w+\", txt)\n",
    "print(x.span())"
   ]
  },
  {
   "cell_type": "markdown",
   "id": "1e586903",
   "metadata": {},
   "source": [
    "Print the string passed into the function:"
   ]
  },
  {
   "cell_type": "code",
   "execution_count": 27,
   "id": "49036f24",
   "metadata": {},
   "outputs": [
    {
     "name": "stdout",
     "output_type": "stream",
     "text": [
      "The rain in Spain\n"
     ]
    }
   ],
   "source": [
    "x = re.search(r\"\\bS\\w+\", txt)\n",
    "print(x.string)"
   ]
  },
  {
   "cell_type": "markdown",
   "id": "c0336aa2",
   "metadata": {},
   "source": [
    "Print the part of the string where there was a match.\n",
    "\n",
    "The regular expression looks for any words that starts with an upper case \"S\":"
   ]
  },
  {
   "cell_type": "code",
   "execution_count": 29,
   "id": "3a1cb0ec",
   "metadata": {},
   "outputs": [
    {
     "name": "stdout",
     "output_type": "stream",
     "text": [
      "Spain\n"
     ]
    }
   ],
   "source": [
    "x = re.search(r\"\\bS\\w+\", txt)\n",
    "print(x.group())"
   ]
  }
 ],
 "metadata": {
  "kernelspec": {
   "display_name": "Python 3",
   "language": "python",
   "name": "python3"
  },
  "language_info": {
   "codemirror_mode": {
    "name": "ipython",
    "version": 3
   },
   "file_extension": ".py",
   "mimetype": "text/x-python",
   "name": "python",
   "nbconvert_exporter": "python",
   "pygments_lexer": "ipython3",
   "version": "3.13.3"
  }
 },
 "nbformat": 4,
 "nbformat_minor": 5
}
