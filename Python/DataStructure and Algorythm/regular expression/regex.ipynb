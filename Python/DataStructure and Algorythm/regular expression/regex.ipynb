{
 "cells": [
  {
   "cell_type": "code",
   "execution_count": 1,
   "id": "60d13122",
   "metadata": {},
   "outputs": [],
   "source": [
    "import re"
   ]
  },
  {
   "cell_type": "markdown",
   "id": "e69ddd0d",
   "metadata": {},
   "source": [
    "Search the string to see if it starts with \"The\" and ends with \"Spain\":"
   ]
  },
  {
   "cell_type": "code",
   "execution_count": 5,
   "id": "3b4ef7dd",
   "metadata": {},
   "outputs": [
    {
     "name": "stdout",
     "output_type": "stream",
     "text": [
      "<re.Match object; span=(0, 17), match='The rain in Spain'>\n"
     ]
    }
   ],
   "source": [
    "txt = \"The rain in Spain\"\n",
    "\n",
    "x = re.search(\"^The.*Spain$\", txt)\n",
    "\n",
    "print(x)"
   ]
  },
  {
   "cell_type": "markdown",
   "id": "13e9d86f",
   "metadata": {},
   "source": [
    "./regular expression/image.png check this out"
   ]
  },
  {
   "cell_type": "markdown",
   "id": "d4756504",
   "metadata": {},
   "source": [
    "Following code searches in the string, all of the \"ai\". the code shows a list as well as the length of the list"
   ]
  },
  {
   "cell_type": "code",
   "execution_count": 9,
   "id": "65d2273b",
   "metadata": {},
   "outputs": [
    {
     "name": "stdout",
     "output_type": "stream",
     "text": [
      "shows the list found\n",
      "['ai', 'ai']\n",
      "Amount found:\n",
      "2\n"
     ]
    }
   ],
   "source": [
    "x = re.findall(\"ai\", txt)\n",
    "\n",
    "print(\"shows the list found\")\n",
    "print(x)\n",
    "print(\"Amount found:\")\n",
    "print(len(x))"
   ]
  },
  {
   "cell_type": "markdown",
   "id": "0c64599b",
   "metadata": {},
   "source": [
    "this show after how many strings it will be a white space"
   ]
  },
  {
   "cell_type": "code",
   "execution_count": 11,
   "id": "769406a0",
   "metadata": {},
   "outputs": [
    {
     "name": "stdout",
     "output_type": "stream",
     "text": [
      "The first white-space character is located in position: 3\n"
     ]
    },
    {
     "name": "stderr",
     "output_type": "stream",
     "text": [
      "<>:1: SyntaxWarning: invalid escape sequence '\\s'\n",
      "<>:1: SyntaxWarning: invalid escape sequence '\\s'\n",
      "C:\\Users\\JoySakai\\AppData\\Local\\Temp\\ipykernel_3400\\3647018393.py:1: SyntaxWarning: invalid escape sequence '\\s'\n",
      "  x = re.search(\"\\s\", txt)\n"
     ]
    }
   ],
   "source": [
    "x = re.search(\"\\s\", txt)\n",
    "\n",
    "print(\"The first white-space character is located in position:\", x.start())"
   ]
  },
  {
   "cell_type": "code",
   "execution_count": null,
   "id": "05e483e1",
   "metadata": {},
   "outputs": [],
   "source": []
  }
 ],
 "metadata": {
  "kernelspec": {
   "display_name": "Python 3",
   "language": "python",
   "name": "python3"
  },
  "language_info": {
   "codemirror_mode": {
    "name": "ipython",
    "version": 3
   },
   "file_extension": ".py",
   "mimetype": "text/x-python",
   "name": "python",
   "nbconvert_exporter": "python",
   "pygments_lexer": "ipython3",
   "version": "3.13.3"
  }
 },
 "nbformat": 4,
 "nbformat_minor": 5
}
