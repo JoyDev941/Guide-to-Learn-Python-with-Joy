{
 "cells": [
  {
   "cell_type": "code",
   "execution_count": 2,
   "id": "65c11c37",
   "metadata": {},
   "outputs": [
    {
     "name": "stdout",
     "output_type": "stream",
     "text": [
      "{'brand': 'Samsung', 'model': 'G3 Odysey', 'year': '2022'}\n"
     ]
    }
   ],
   "source": [
    "thisDict = {\n",
    "\"brand\" : \"Samsung\",\n",
    "\"model\" : \"G3 Odysey\",\n",
    "\"year\" : \"2022\"\n",
    "}\n",
    "\n",
    "print(thisDict)"
   ]
  },
  {
   "cell_type": "code",
   "execution_count": 3,
   "id": "9b21143c",
   "metadata": {},
   "outputs": [
    {
     "name": "stdout",
     "output_type": "stream",
     "text": [
      "Samsung\n"
     ]
    }
   ],
   "source": [
    "print(thisDict[\"brand\"])"
   ]
  },
  {
   "cell_type": "markdown",
   "id": "1cd2c9f4",
   "metadata": {},
   "source": [
    "Duplicate Values will overwrite existing values"
   ]
  },
  {
   "cell_type": "code",
   "execution_count": 8,
   "id": "08bc8af3",
   "metadata": {},
   "outputs": [
    {
     "name": "stdout",
     "output_type": "stream",
     "text": [
      "203\n"
     ]
    }
   ],
   "source": [
    "try:\n",
    "    thisDict = {\n",
    "        \"brand\" : \"toyota\",\n",
    "        \"Year\" : 2024,\n",
    "        \"Year\" : 203\n",
    "    }\n",
    "\n",
    "    #---#\n",
    "    try:\n",
    "        print(thisDict[\"Year\"])\n",
    "    except NameError:\n",
    "        print(\"Something Went wrong finding the requested Item\")\n",
    "    #---#\n",
    "    \n",
    "except:\n",
    "    print(\"Something went wrong\")"
   ]
  },
  {
   "cell_type": "code",
   "execution_count": 10,
   "id": "9c8780d8",
   "metadata": {},
   "outputs": [
    {
     "name": "stdout",
     "output_type": "stream",
     "text": [
      "6\n",
      "It functioned\n",
      "Job has been completed\n"
     ]
    }
   ],
   "source": [
    "try:\n",
    "    print(len(thisDict[\"brand\"]))\n",
    "except:\n",
    "    print(\"Something Went Wrong\")\n",
    "else:\n",
    "    print(\"It functioned\")\n",
    "finally:\n",
    "    print(\"Job has been completed\")"
   ]
  },
  {
   "cell_type": "markdown",
   "id": "6c9860f0",
   "metadata": {},
   "source": [
    "you can add lists as well"
   ]
  },
  {
   "cell_type": "code",
   "execution_count": 25,
   "id": "e1a67d68",
   "metadata": {},
   "outputs": [
    {
     "name": "stdout",
     "output_type": "stream",
     "text": [
      "list is:\n",
      "['red', 'white', 'blue']\n",
      "show specific element\n",
      "red\n",
      "nothing went wrong\n",
      "job has been completed\n"
     ]
    }
   ],
   "source": [
    "thisDict = {\n",
    "  \"brand\": \"Ford\",\n",
    "  \"electric\": False,\n",
    "  \"year\": 1964,\n",
    "  \"colors\": [\"red\", \"white\", \"blue\"]\n",
    "}\n",
    "\n",
    "try:\n",
    "    print(\"list is:\")\n",
    "    print(thisDict[\"colors\"])\n",
    "    print(\"show specific element\")\n",
    "    print(thisDict[\"colors\"][0])\n",
    "except:\n",
    "    print(\"Failed To Find requested Item\")\n",
    "else:\n",
    "    print(\"nothing went wrong\")\n",
    "finally:\n",
    "    print(\"job has been completed\")"
   ]
  },
  {
   "cell_type": "code",
   "execution_count": 27,
   "id": "847f0fa0",
   "metadata": {},
   "outputs": [
    {
     "name": "stdout",
     "output_type": "stream",
     "text": [
      "{'brand': 'Ford', 'electric': False, 'year': 1964, 'colors': ['red', 'white', 'blue']}\n",
      "<class 'dict'>\n"
     ]
    }
   ],
   "source": [
    "print(thisDict)\n",
    "print(type(thisDict))"
   ]
  },
  {
   "cell_type": "markdown",
   "id": "070b0bde",
   "metadata": {},
   "source": [
    "you can print data type of specific dictionary element"
   ]
  },
  {
   "cell_type": "code",
   "execution_count": 28,
   "id": "fd0ca8c2",
   "metadata": {},
   "outputs": [
    {
     "name": "stdout",
     "output_type": "stream",
     "text": [
      "<class 'bool'>\n"
     ]
    }
   ],
   "source": [
    "print(type(thisDict[\"electric\"]))"
   ]
  },
  {
   "cell_type": "markdown",
   "id": "b7c7cac0",
   "metadata": {},
   "source": [
    "construct a dictionary"
   ]
  },
  {
   "cell_type": "code",
   "execution_count": 33,
   "id": "ce0e88bf",
   "metadata": {},
   "outputs": [
    {
     "name": "stdout",
     "output_type": "stream",
     "text": [
      "john\n"
     ]
    }
   ],
   "source": [
    "thisdict = dict(name = \"john\", age = 15, country = \"Italy\")\n",
    "\n",
    "print(thisdict[\"name\"])"
   ]
  }
 ],
 "metadata": {
  "kernelspec": {
   "display_name": "Python 3",
   "language": "python",
   "name": "python3"
  },
  "language_info": {
   "codemirror_mode": {
    "name": "ipython",
    "version": 3
   },
   "file_extension": ".py",
   "mimetype": "text/x-python",
   "name": "python",
   "nbconvert_exporter": "python",
   "pygments_lexer": "ipython3",
   "version": "3.13.3"
  }
 },
 "nbformat": 4,
 "nbformat_minor": 5
}
