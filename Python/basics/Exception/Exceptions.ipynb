{
 "cells": [
  {
   "cell_type": "code",
   "execution_count": 1,
   "id": "dc41be40-b4a4-4494-a6d9-294e4b295ba9",
   "metadata": {},
   "outputs": [
    {
     "name": "stdout",
     "output_type": "stream",
     "text": [
      "Didnt find x\n"
     ]
    }
   ],
   "source": [
    "try:\n",
    "    print(x)\n",
    "except:\n",
    "    print(\"Didnt find x\")\n",
    "    "
   ]
  },
  {
   "cell_type": "code",
   "execution_count": 3,
   "id": "01e4357b",
   "metadata": {},
   "outputs": [
    {
     "name": "stdout",
     "output_type": "stream",
     "text": [
      "10\n"
     ]
    }
   ],
   "source": [
    "x = 10\n",
    "\n",
    "try:\n",
    "    print(x)\n",
    "except NameError:\n",
    "    print(\"X has not been found\")\n",
    "except:\n",
    "    print(\"Error Unknown\")"
   ]
  },
  {
   "cell_type": "code",
   "execution_count": 2,
   "id": "6f6c5f37-2dc0-46fb-a07a-c9acc207110b",
   "metadata": {},
   "outputs": [
    {
     "name": "stdout",
     "output_type": "stream",
     "text": [
      "X is not found\n"
     ]
    }
   ],
   "source": [
    "try:\n",
    "    print(x)\n",
    "except NameError:\n",
    "    print(\"X is not found\")\n",
    "except:\n",
    "    print(\"Something else\")"
   ]
  },
  {
   "cell_type": "markdown",
   "id": "ade7a594",
   "metadata": {},
   "source": [
    "#The next case scenario shows that it will output both the \"I printed\" and the \"nothing went wrong part\"."
   ]
  },
  {
   "cell_type": "code",
   "execution_count": 5,
   "id": "ade50e1e",
   "metadata": {},
   "outputs": [
    {
     "name": "stdout",
     "output_type": "stream",
     "text": [
      "I printed\n",
      "nothing went wrong?\n"
     ]
    }
   ],
   "source": [
    "try:\n",
    "    print(\"I printed\")\n",
    "except:\n",
    "    print(\"Something Went Wrong...\")\n",
    "else:\n",
    "    print(\"nothing went wrong?\")"
   ]
  },
  {
   "cell_type": "markdown",
   "id": "c3aee610",
   "metadata": {},
   "source": [
    "but if the try were to be wrong...\n",
    "\n",
    "only the exception will be printed out"
   ]
  },
  {
   "cell_type": "code",
   "execution_count": 6,
   "id": "9733d984",
   "metadata": {},
   "outputs": [
    {
     "name": "stdout",
     "output_type": "stream",
     "text": [
      "something went wrong\n"
     ]
    }
   ],
   "source": [
    "try:\n",
    "    print(y)\n",
    "except:\n",
    "    print(\"something went wrong\")\n",
    "else:\n",
    "    print(\"nothing went wrong\")"
   ]
  },
  {
   "cell_type": "code",
   "execution_count": 8,
   "id": "18313f00",
   "metadata": {},
   "outputs": [
    {
     "name": "stdout",
     "output_type": "stream",
     "text": [
      "something went wrong\n",
      "I will be printed regardless of condition also along the error\n"
     ]
    }
   ],
   "source": [
    "try:\n",
    "    print(y)\n",
    "except:\n",
    "    print(\"something went wrong\")\n",
    "finally:\n",
    "    print(\"I will be printed regardless of condition also along the error\")"
   ]
  },
  {
   "cell_type": "markdown",
   "id": "d0a8f1b7",
   "metadata": {},
   "source": [
    "Let us try open a file that doesnt exist and create a new file as a error handling:"
   ]
  },
  {
   "cell_type": "code",
   "execution_count": 9,
   "id": "9939a31c",
   "metadata": {},
   "outputs": [
    {
     "name": "stdout",
     "output_type": "stream",
     "text": [
      "File not detected\n"
     ]
    }
   ],
   "source": [
    "try:\n",
    "    f = open(\"demo.txt\")\n",
    "    try:\n",
    "        f.write(\"Text input\")\n",
    "    except:\n",
    "        print(\"Unable to write on document\")\n",
    "    finally:\n",
    "        f.close\n",
    "except:\n",
    "    print(\"File not detected\")"
   ]
  },
  {
   "cell_type": "markdown",
   "id": "00c44d0c",
   "metadata": {},
   "source": [
    "you can handle exceptions also this way"
   ]
  },
  {
   "cell_type": "code",
   "execution_count": 13,
   "id": "19713ea3",
   "metadata": {},
   "outputs": [
    {
     "ename": "Exception",
     "evalue": "Number out of bounds",
     "output_type": "error",
     "traceback": [
      "\u001b[31m---------------------------------------------------------------------------\u001b[39m",
      "\u001b[31mException\u001b[39m                                 Traceback (most recent call last)",
      "\u001b[36mCell\u001b[39m\u001b[36m \u001b[39m\u001b[32mIn[13]\u001b[39m\u001b[32m, line 6\u001b[39m\n\u001b[32m      4\u001b[39m x = x - \u001b[32m1\u001b[39m\n\u001b[32m      5\u001b[39m \u001b[38;5;28;01mif\u001b[39;00m x < \u001b[32m0\u001b[39m:\n\u001b[32m----> \u001b[39m\u001b[32m6\u001b[39m     \u001b[38;5;28;01mraise\u001b[39;00m \u001b[38;5;167;01mException\u001b[39;00m(\u001b[33m\"\u001b[39m\u001b[33mNumber out of bounds\u001b[39m\u001b[33m\"\u001b[39m)\n",
      "\u001b[31mException\u001b[39m: Number out of bounds"
     ]
    }
   ],
   "source": [
    "x = 5\n",
    "\n",
    "for i in range(10):\n",
    "    x = x - 1\n",
    "    if x < 0:\n",
    "        raise Exception(\"Number out of bounds\")"
   ]
  },
  {
   "cell_type": "code",
   "execution_count": 18,
   "id": "507d4471",
   "metadata": {},
   "outputs": [
    {
     "ename": "TypeError",
     "evalue": "This shouldnt be an integer",
     "output_type": "error",
     "traceback": [
      "\u001b[31m---------------------------------------------------------------------------\u001b[39m",
      "\u001b[31mTypeError\u001b[39m                                 Traceback (most recent call last)",
      "\u001b[36mCell\u001b[39m\u001b[36m \u001b[39m\u001b[32mIn[18]\u001b[39m\u001b[32m, line 4\u001b[39m\n\u001b[32m      1\u001b[39m x = \u001b[32m1\u001b[39m\n\u001b[32m      3\u001b[39m \u001b[38;5;28;01mif\u001b[39;00m \u001b[38;5;28mtype\u001b[39m(x) \u001b[38;5;129;01mis\u001b[39;00m \u001b[38;5;28mint\u001b[39m:\n\u001b[32m----> \u001b[39m\u001b[32m4\u001b[39m     \u001b[38;5;28;01mraise\u001b[39;00m \u001b[38;5;167;01mTypeError\u001b[39;00m(\u001b[33m\"\u001b[39m\u001b[33mThis shouldnt be an integer\u001b[39m\u001b[33m\"\u001b[39m)\n",
      "\u001b[31mTypeError\u001b[39m: This shouldnt be an integer"
     ]
    }
   ],
   "source": [
    "x = 1\n",
    "\n",
    "if type(x) is int:\n",
    "    raise TypeError(\"This shouldnt be an integer\")"
   ]
  },
  {
   "cell_type": "code",
   "execution_count": 19,
   "id": "566f1fec",
   "metadata": {},
   "outputs": [
    {
     "ename": "TypeError",
     "evalue": "This shouldnt be an float",
     "output_type": "error",
     "traceback": [
      "\u001b[31m---------------------------------------------------------------------------\u001b[39m",
      "\u001b[31mTypeError\u001b[39m                                 Traceback (most recent call last)",
      "\u001b[36mCell\u001b[39m\u001b[36m \u001b[39m\u001b[32mIn[19]\u001b[39m\u001b[32m, line 4\u001b[39m\n\u001b[32m      1\u001b[39m x = \u001b[32m1.1\u001b[39m\n\u001b[32m      3\u001b[39m \u001b[38;5;28;01mif\u001b[39;00m \u001b[38;5;129;01mnot\u001b[39;00m \u001b[38;5;28mtype\u001b[39m(x) \u001b[38;5;129;01mis\u001b[39;00m \u001b[38;5;28mint\u001b[39m:\n\u001b[32m----> \u001b[39m\u001b[32m4\u001b[39m     \u001b[38;5;28;01mraise\u001b[39;00m \u001b[38;5;167;01mTypeError\u001b[39;00m(\u001b[33m\"\u001b[39m\u001b[33mThis shouldnt be an float\u001b[39m\u001b[33m\"\u001b[39m)\n",
      "\u001b[31mTypeError\u001b[39m: This shouldnt be an float"
     ]
    }
   ],
   "source": [
    "x = 1.1\n",
    "\n",
    "if not type(x) is int:\n",
    "    raise TypeError(\"This shouldnt be an float\")"
   ]
  }
 ],
 "metadata": {
  "kernelspec": {
   "display_name": "Python 3",
   "language": "python",
   "name": "python3"
  },
  "language_info": {
   "codemirror_mode": {
    "name": "ipython",
    "version": 3
   },
   "file_extension": ".py",
   "mimetype": "text/x-python",
   "name": "python",
   "nbconvert_exporter": "python",
   "pygments_lexer": "ipython3",
   "version": "3.13.3"
  }
 },
 "nbformat": 4,
 "nbformat_minor": 5
}
