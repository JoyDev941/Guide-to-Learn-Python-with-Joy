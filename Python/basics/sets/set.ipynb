{
 "cells": [
  {
   "cell_type": "code",
   "execution_count": 1,
   "id": "9b875f4b",
   "metadata": {},
   "outputs": [
    {
     "name": "stdout",
     "output_type": "stream",
     "text": [
      "{'apple', 'banana', 'grape'}\n"
     ]
    }
   ],
   "source": [
    "fruits = {'banana', 'apple', 'grape'}\n",
    "\n",
    "print(fruits)"
   ]
  },
  {
   "cell_type": "code",
   "execution_count": 5,
   "id": "2350363d",
   "metadata": {},
   "outputs": [
    {
     "name": "stdout",
     "output_type": "stream",
     "text": [
      "sets cant select a specific item\n",
      "Job completed\n"
     ]
    }
   ],
   "source": [
    "try:\n",
    "    print(fruits[1])\n",
    "except TypeError:\n",
    "    print(\"sets cant select a specific item\")\n",
    "else:\n",
    "    print(\"Item Found\")\n",
    "finally:\n",
    "    print(\"Job completed\")"
   ]
  },
  {
   "cell_type": "markdown",
   "id": "43a5fed1",
   "metadata": {},
   "source": [
    "sets are unordered, unchangeable and duplicates not allowed"
   ]
  },
  {
   "cell_type": "markdown",
   "id": "fb813aa7",
   "metadata": {},
   "source": [
    "unordered means that it does not have a defined order"
   ]
  },
  {
   "cell_type": "markdown",
   "id": "4daefa1c",
   "metadata": {},
   "source": [
    "unchangeable means you cant change existing values, but you can add new items or delete existing items"
   ]
  },
  {
   "cell_type": "markdown",
   "id": "faa9c5d4",
   "metadata": {},
   "source": [
    "existing items are automatically removed, when outputted"
   ]
  },
  {
   "cell_type": "code",
   "execution_count": 7,
   "id": "72c0e1a7",
   "metadata": {},
   "outputs": [
    {
     "name": "stdout",
     "output_type": "stream",
     "text": [
      "{'apple', 'banana', 'grape'}\n"
     ]
    }
   ],
   "source": [
    "fruits = {'banana', 'apple', 'grape', 'grape'}\n",
    "\n",
    "print(fruits)"
   ]
  },
  {
   "cell_type": "markdown",
   "id": "1e052aa8",
   "metadata": {},
   "source": [
    "True and 1 are considered the same value, so whatever comes after is removed\n",
    "\n",
    "True = 1\n",
    "False = 0\n",
    "\n"
   ]
  },
  {
   "cell_type": "code",
   "execution_count": null,
   "id": "08e052ba",
   "metadata": {},
   "outputs": [
    {
     "name": "stdout",
     "output_type": "stream",
     "text": [
      "{False, True}\n"
     ]
    }
   ],
   "source": [
    "ranset = {True, False, 1, 0}\n",
    "print(ranset) "
   ]
  },
  {
   "cell_type": "markdown",
   "id": "3fd41fee",
   "metadata": {},
   "source": [
    "check the length of a set. with the previous example, you can see that the additional 2 numbers are not counted"
   ]
  },
  {
   "cell_type": "code",
   "execution_count": 11,
   "id": "07d75640",
   "metadata": {},
   "outputs": [
    {
     "data": {
      "text/plain": [
       "2"
      ]
     },
     "execution_count": 11,
     "metadata": {},
     "output_type": "execute_result"
    }
   ],
   "source": [
    "len(ranset)"
   ]
  },
  {
   "cell_type": "markdown",
   "id": "0bae1ee2",
   "metadata": {},
   "source": [
    "A set can contain different data type or it can be of one data type based on the developer. check the type you can see it will be type set, regardless of what you put in the data type"
   ]
  },
  {
   "cell_type": "code",
   "execution_count": 13,
   "id": "e8014343",
   "metadata": {},
   "outputs": [
    {
     "name": "stdout",
     "output_type": "stream",
     "text": [
      "<class 'set'>\n"
     ]
    }
   ],
   "source": [
    "set1 = {\"apple\", \"banana\", \"cherry\"}\n",
    "set2 = {1, 5, 7, 9, 3}\n",
    "set3 = {True, False, False}\n",
    "\n",
    "print(type(set1))"
   ]
  },
  {
   "cell_type": "code",
   "execution_count": 14,
   "id": "87922cc2",
   "metadata": {},
   "outputs": [
    {
     "name": "stdout",
     "output_type": "stream",
     "text": [
      "<class 'set'>\n"
     ]
    }
   ],
   "source": [
    "set1 = {\"abc\", 34, True, 40, \"male\"}\n",
    "\n",
    "print(type(set1))"
   ]
  },
  {
   "cell_type": "markdown",
   "id": "cfe2e28f",
   "metadata": {},
   "source": [
    "You can construct a dataset as well, remeber to add set before the round brackets"
   ]
  },
  {
   "cell_type": "code",
   "execution_count": 15,
   "id": "8fbe53aa",
   "metadata": {},
   "outputs": [
    {
     "name": "stdout",
     "output_type": "stream",
     "text": [
      "{'cherry', 'apple', 'banana'}\n"
     ]
    }
   ],
   "source": [
    "thisset = set((\"apple\", \"banana\", \"cherry\")) # note the double round-brackets\n",
    "print(thisset)"
   ]
  }
 ],
 "metadata": {
  "kernelspec": {
   "display_name": "Python 3",
   "language": "python",
   "name": "python3"
  },
  "language_info": {
   "codemirror_mode": {
    "name": "ipython",
    "version": 3
   },
   "file_extension": ".py",
   "mimetype": "text/x-python",
   "name": "python",
   "nbconvert_exporter": "python",
   "pygments_lexer": "ipython3",
   "version": "3.13.3"
  }
 },
 "nbformat": 4,
 "nbformat_minor": 5
}
